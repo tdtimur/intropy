{
 "cells": [
  {
   "cell_type": "markdown",
   "metadata": {},
   "source": [
    "# Bagian IV: Fungsi"
   ]
  },
  {
   "cell_type": "markdown",
   "metadata": {},
   "source": [
    "## 1. Mendefinisikan Fungsi dengan `def`\n",
    "\n",
    "Struktur fungsi dalam Python adalah sebagai berikut:\n",
    "\n",
    "```python\n",
    "def fungsi(param1, param2, param3):\n",
    "    while True:\n",
    "        param1 += param2 * param3\n",
    "    return param3\n",
    "```\n",
    "\n",
    "Fungsi di atas dapat dipanggil dengan `fungsi(10, 15, 20)` atau secara ekivalen `fungsi(param2=15, param3=20, param1=10)`.\n",
    "\n",
    "1. Harus diperhatikan tanda titik dua (colon) di akhir statement `def`\n",
    "2. Perlu diperhatikan indentasi dalam blok definisi fungsi\n",
    "3. Statement `return` adalah nilai yang dikeluarkan oleh fungsi"
   ]
  },
  {
   "cell_type": "markdown",
   "metadata": {
    "collapsed": true
   },
   "source": [
    "## 2. Default Value dalam fungsi\n",
    "\n",
    "Python memungkinkan kita untuk menentukan nilai default dalam parameter. Misal dalam contoh di atas:\n",
    "\n",
    "```python\n",
    "def fungsi(param1, param2=15, param3):\n",
    "    while True:\n",
    "        param1 += param2 * param3\n",
    "    return param3\n",
    "```\n",
    "\n",
    "Jika dipanggil fungsi tanpa `param2`, maka fungsi akan dieksekusi dengan nilai defaultnya."
   ]
  },
  {
   "cell_type": "markdown",
   "metadata": {},
   "source": [
    "## Latihan 1\n",
    "1. Buatlah fungsi untuk memeriksa apakah suatu bilangan termasuk bilangan prima!\n",
    "2. Print 50 bilangan prima pertama!\n",
    "3. Greatest Common Divisor (GCD) dari dua integer positif $p$ dan $q$ adalah integer positif $n$ terbesar sehingga berlaku $n|p$ dan $n|q$. Buatlah fungsi yang menghitung GCD dari dua bilangan.\n",
    "4. Dua integer positif $p$ dan $q$ disebut saling prima relatif jika gcd($p,q$)=1. Buatlah fungsi yang bisa menentukan apakah $p$ dan $q$ yang diberikan saling prima atau tidak.\n",
    "5. Euler Totient Function (ETF) adalah fungsi $\\phi(n)$ yang menyatakan banyaknya integer positif kurang dari $n$ yang relatif prima terhadap $n$. Buatlah fungsinya dalam Python."
   ]
  },
  {
   "cell_type": "markdown",
   "metadata": {},
   "source": [
    "## 3. Fungsi Rekursif\n",
    "\n",
    "Fungsi dapat dinyatakan secara rekursif (tergantung masalahnya), yaitu input dikurangi sehingga mencapai base-case nya. Contoh dalam mendefinisikan operasi pangkat, $x^n=\\underbrace{x\\cdot x\\cdot x \\ldots x}_n$, sehingga dalam Python dapat ditulis:\n",
    "\n",
    "```python\n",
    "def pangkat(x, n):\n",
    "    if n==1:\n",
    "        return x\n",
    "    else:\n",
    "        return x * pangkat(x, n-1)\n",
    "```\n",
    "\n",
    "Pada statement `if` pertama adalah base-case, yakni syarat atau kasus dimana proses rekursi harus diterminasi. Statement `else` akan terus dieksekusi selama base-case belum dipenuhi."
   ]
  },
  {
   "cell_type": "markdown",
   "metadata": {},
   "source": [
    "## Algoritma Euclid\n",
    "Algoritma ini digunakan untuk menentukan GCD dari dua sebarang integer positif. Misal $r_0=a$ dan $r_1=b$ sehingga $a\\geq b > 0$. Jika pembagian dilakukan secara berlanjut dan berulang, $r_j = r_{j+1}q_{j+1}+ r_{j+2}$, dengan $0<r_{j+2}<r_{j+1}$ untuk $j=0,1,2,\\ldots,n-2$ dan $r_{n+1}=0$. Maka gcd($r_0,r_1$)=$r_n$, yaitu sisa bagi terakhir yang taknol. Contoh GCD dari 252 dan 198.\n",
    "\n",
    "|$r_j$|$q_{j+1}$|$r_{j+1}$|  |$r_{j+2}$|\n",
    "|-----|---|-----|---|----|\n",
    "| 252 | 1 | 198 | + | 54 |\n",
    "| 198 | 3 | 54  | + | 36 |\n",
    "| 54  | 1 | 36  | + | 28 |\n",
    "| 36  | 2 | 18  |   |    |\n",
    "\n",
    "## Latihan 2\n",
    "\n",
    "1. Fungsi faktorial adalah fungsi $n!=f(n)=n\\cdot f(n-1)$. Buatlah fungsinya.\n",
    "2. Buat fungsi dari Algoritma Euclid.\n",
    "3. Untuk sebarang dua integer, bandingkan waktu komputasi dari Algoritma Euclid dan fungsi pada Latihan 1 No 3.\n",
    "4. Fungsi McCarthy didefinisikan sebagai $$f(n)=n-10,\\textrm{jika } n>100, \\textrm{dan } f(f(n+11)) \\textrm{ jika } n\\leq100.$$ Buat fungsinya dalam Python."
   ]
  },
  {
   "cell_type": "code",
   "execution_count": null,
   "metadata": {},
   "outputs": [],
   "source": []
  }
 ],
 "metadata": {
  "kernelspec": {
   "display_name": "Python 3",
   "language": "python",
   "name": "python3"
  },
  "language_info": {
   "codemirror_mode": {
    "name": "ipython",
    "version": 3
   },
   "file_extension": ".py",
   "mimetype": "text/x-python",
   "name": "python",
   "nbconvert_exporter": "python",
   "pygments_lexer": "ipython3",
   "version": "3.5.2"
  }
 },
 "nbformat": 4,
 "nbformat_minor": 2
}
