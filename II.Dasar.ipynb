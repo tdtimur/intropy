{
 "cells": [
  {
   "cell_type": "markdown",
   "metadata": {},
   "source": [
    "# Bagian II: Dasar"
   ]
  },
  {
   "cell_type": "markdown",
   "metadata": {},
   "source": [
    "## 1. Program Pertama"
   ]
  },
  {
   "cell_type": "markdown",
   "metadata": {},
   "source": [
    "Dalam mempelajari bahasa pemrograman, biasanya diawali dengan pembuatan program `Hello World!`. Dalam Python, `print()` adalah fungsi untuk menampilkan output ke layar."
   ]
  },
  {
   "cell_type": "code",
   "execution_count": 3,
   "metadata": {},
   "outputs": [
    {
     "name": "stdout",
     "output_type": "stream",
     "text": [
      "Hello World!\n"
     ]
    }
   ],
   "source": [
    "print(\"Hello World!\")"
   ]
  },
  {
   "cell_type": "code",
   "execution_count": 6,
   "metadata": {},
   "outputs": [
    {
     "name": "stdout",
     "output_type": "stream",
     "text": [
      "Nama saya Tahta\n",
      "Saya sedang belajar Python\n",
      "Pertama saya belajar fungsi print\n"
     ]
    }
   ],
   "source": [
    "print(\"Nama saya Tahta\")\n",
    "print(\"Saya sedang belajar Python\")\n",
    "print(\"Pertama saya belajar fungsi print\")"
   ]
  },
  {
   "cell_type": "markdown",
   "metadata": {},
   "source": [
    "## Latihan 1\n",
    "Buatlah program `print()` sekreatif mungkin!"
   ]
  },
  {
   "cell_type": "markdown",
   "metadata": {},
   "source": [
    "## 2. *Comment*"
   ]
  },
  {
   "cell_type": "markdown",
   "metadata": {},
   "source": [
    "Dalam bahasa pemrograman, *comment* menandakan bahwa kode tersebut tidak perlu dieksekusi. Hal ini penting untuk debugging, atau memberikan keterangan dalam kode untuk keterbacaan dan pelacakan blok-blok kode. Contoh:\n",
    "```python\n",
    "def suatu_fungsi(A, B, C, D):\n",
    "    # kode ini dieksekusi jika A=0\n",
    "    if A==0:\n",
    "        return print(\"A=0\")\n",
    "    .....\n",
    "    .....\n",
    "    # Keterangan lain\n",
    "    .....\n",
    "    .....\n",
    "    .....\n",
    "    # Sebuah keterangan lagi\n",
    "    elif:\n",
    "        return print(A+B+C)\n",
    "    # Keterangan terakhir\n",
    "    else:\n",
    "        return D\n",
    "```"
   ]
  },
  {
   "cell_type": "code",
   "execution_count": 7,
   "metadata": {},
   "outputs": [
    {
     "name": "stdout",
     "output_type": "stream",
     "text": [
      "Nama saya Tahta\n",
      "Saya sedang belajar Python\n",
      "Pertama saya belajar fungsi print\n"
     ]
    }
   ],
   "source": [
    "# Ini adalah comment\n",
    "print(\"Nama saya Tahta\")\n",
    "print(\"Saya sedang belajar Python\")\n",
    "print(\"Pertama saya belajar fungsi print\")"
   ]
  },
  {
   "cell_type": "code",
   "execution_count": 8,
   "metadata": {},
   "outputs": [
    {
     "name": "stdout",
     "output_type": "stream",
     "text": [
      "Saya sedang belajar Python\n",
      "Pertama saya belajar fungsi print\n"
     ]
    }
   ],
   "source": [
    "# Ini adalah comment\n",
    "# print(\"Nama saya Tahta\")\n",
    "print(\"Saya sedang belajar Python\")\n",
    "print(\"Pertama saya belajar fungsi print\")"
   ]
  },
  {
   "cell_type": "code",
   "execution_count": 9,
   "metadata": {
    "collapsed": true
   },
   "outputs": [],
   "source": [
    "# Ini adalah comment\n",
    "# print(\"Nama saya Tahta\")\n",
    "# print(\"Saya sedang belajar Python\")\n",
    "# print(\"Pertama saya belajar fungsi print\")"
   ]
  },
  {
   "cell_type": "markdown",
   "metadata": {},
   "source": [
    "## Latihan 2\n",
    "Buat program seperti Latihan 1 dan beri *comment*!"
   ]
  },
  {
   "cell_type": "markdown",
   "metadata": {},
   "source": [
    "## 3. Bilangan dan Operasinya"
   ]
  },
  {
   "cell_type": "markdown",
   "metadata": {
    "collapsed": true
   },
   "source": [
    "Dalam Python, bilangan bersifat *dynamically-typed*, artinya sebuah bilangan/variabel tidak harus dideklarasikan tipenya secara eksplisit. Berikut contoh-contoh perhitungan dasar."
   ]
  },
  {
   "cell_type": "code",
   "execution_count": 15,
   "metadata": {},
   "outputs": [
    {
     "data": {
      "text/plain": [
       "3"
      ]
     },
     "execution_count": 15,
     "metadata": {},
     "output_type": "execute_result"
    }
   ],
   "source": [
    "3"
   ]
  },
  {
   "cell_type": "code",
   "execution_count": 10,
   "metadata": {},
   "outputs": [
    {
     "data": {
      "text/plain": [
       "8"
      ]
     },
     "execution_count": 10,
     "metadata": {},
     "output_type": "execute_result"
    }
   ],
   "source": [
    "3 + 5"
   ]
  },
  {
   "cell_type": "code",
   "execution_count": 11,
   "metadata": {},
   "outputs": [
    {
     "data": {
      "text/plain": [
       "3"
      ]
     },
     "execution_count": 11,
     "metadata": {},
     "output_type": "execute_result"
    }
   ],
   "source": [
    "8 - 5"
   ]
  },
  {
   "cell_type": "code",
   "execution_count": 12,
   "metadata": {},
   "outputs": [
    {
     "data": {
      "text/plain": [
       "9.9"
      ]
     },
     "execution_count": 12,
     "metadata": {},
     "output_type": "execute_result"
    }
   ],
   "source": [
    "10 - .1"
   ]
  },
  {
   "cell_type": "markdown",
   "metadata": {},
   "source": [
    "Setiap integer $n$ dapat dinyatakan sebagai $n=mp+q$, dimana $m$ pembagi, $p$ hasil bagi, dan $q$ sisa bagi. Dalam Python terdapat dua pembagian, yaitu **division** dan **integer division**. Division adalah pembagian biasa, tetapi integer division adalah pembagian yang selalu menghasilkan integer ($p$ seperti di atas). Integer sisa bagi $q$ dapat dihasilkan dengan modulo, yang disimbolkan `%` dalam Python."
   ]
  },
  {
   "cell_type": "code",
   "execution_count": 13,
   "metadata": {},
   "outputs": [
    {
     "data": {
      "text/plain": [
       "3.3333333333333335"
      ]
     },
     "execution_count": 13,
     "metadata": {},
     "output_type": "execute_result"
    }
   ],
   "source": [
    "10/3"
   ]
  },
  {
   "cell_type": "code",
   "execution_count": 16,
   "metadata": {},
   "outputs": [
    {
     "data": {
      "text/plain": [
       "1"
      ]
     },
     "execution_count": 16,
     "metadata": {},
     "output_type": "execute_result"
    }
   ],
   "source": [
    "10%3"
   ]
  },
  {
   "cell_type": "code",
   "execution_count": 17,
   "metadata": {},
   "outputs": [
    {
     "data": {
      "text/plain": [
       "3"
      ]
     },
     "execution_count": 17,
     "metadata": {},
     "output_type": "execute_result"
    }
   ],
   "source": [
    "10//3"
   ]
  },
  {
   "cell_type": "code",
   "execution_count": 18,
   "metadata": {},
   "outputs": [
    {
     "data": {
      "text/plain": [
       "True"
      ]
     },
     "execution_count": 18,
     "metadata": {},
     "output_type": "execute_result"
    }
   ],
   "source": [
    "# Apakah 10 = 3 x 3 + 1 ?\n",
    "10 == 3 * 3 + 1"
   ]
  },
  {
   "cell_type": "markdown",
   "metadata": {},
   "source": [
    "Operasi    |   Simbol | Sintaks\n",
    "---------- | -------- | --------\n",
    "Assignment | $\\gets$  |   `=`\n",
    "Addition   |    $+$   |   `+`\n",
    "Substract  |    $-$   |   `-`\n",
    "Multiply   |  $\\cdot$ |   `*`\n",
    "Power      |  $^$     |   `**`\n",
    "Divide     |    $/$   |   `/`\n",
    "Int. Div.  |    $/$   |   `//`\n",
    "Modulo     |  $\\bmod$ |   `%`\n",
    "Equal      |  $=$     |   `==`\n",
    "Not Equal  |  $\\neq$  |   `!=`\n",
    "LessEq     |   $\\leq$ |   `<=`\n",
    "GreEq      |  $\\geq$  |   `>=`"
   ]
  },
  {
   "cell_type": "markdown",
   "metadata": {},
   "source": [
    "## Latihan 3\n",
    "1. Hitung operasi $(2^2)^3$. *Jawab*: 64\n",
    "2. Hitung operasi $2^{2^3}$. *Jawab*: 256\n",
    "3. Hitung operasi `2 + 3 - 1 * 5 / 4 ** 6`. *Jawab*: 4.998779296875\n",
    "4. Bagaimana urutan operator pada Python?"
   ]
  },
  {
   "cell_type": "markdown",
   "metadata": {},
   "source": [
    "## 4. Variabel"
   ]
  },
  {
   "cell_type": "markdown",
   "metadata": {},
   "source": [
    "Penggunaan variabel biasa digunakan dalam pemrograman. Dalam Python, semua hal adalah `object`. Object disimpan dalam memory. Untuk memudahkan pemanggilan, dilakukan *assignment* kepada variabel. Contoh $a\\gets 5$ ditulis `a = 5`."
   ]
  },
  {
   "cell_type": "code",
   "execution_count": 19,
   "metadata": {},
   "outputs": [
    {
     "data": {
      "text/plain": [
       "0.5"
      ]
     },
     "execution_count": 19,
     "metadata": {},
     "output_type": "execute_result"
    }
   ],
   "source": [
    "a = .5\n",
    "a"
   ]
  },
  {
   "cell_type": "markdown",
   "metadata": {},
   "source": [
    "Variabel dapat digunakan untuk semua tipe data. Bahkan terhadap variabel lain."
   ]
  },
  {
   "cell_type": "code",
   "execution_count": 7,
   "metadata": {},
   "outputs": [
    {
     "name": "stdout",
     "output_type": "stream",
     "text": [
      "teks\n",
      "Saya sedang belajar Python\n",
      "Saya sedang belajar PythonSaya sedang belajar PythonSaya sedang belajar Python\n",
      "Saya sedang belajar Python di Lab Geofisika\n",
      "Saya sedang belajar Python di Lab Geofisika Saya sedang belajar Python di Lab Geofisika Saya sedang belajar Python di Lab Geofisika Saya sedang belajar Python di Lab Geofisika \n"
     ]
    }
   ],
   "source": [
    "teks = \"Saya sedang belajar Python\"\n",
    "print(\"teks\")\n",
    "print(teks)\n",
    "print(teks*3)\n",
    "print(teks + \" di Lab Geofisika\")\n",
    "print((teks + \" di Lab Geofisika \")*4)"
   ]
  },
  {
   "cell_type": "code",
   "execution_count": 9,
   "metadata": {
    "collapsed": true
   },
   "outputs": [],
   "source": [
    "x = 1"
   ]
  },
  {
   "cell_type": "code",
   "execution_count": 10,
   "metadata": {
    "collapsed": true
   },
   "outputs": [],
   "source": [
    "x = x + 2"
   ]
  },
  {
   "cell_type": "code",
   "execution_count": 11,
   "metadata": {},
   "outputs": [
    {
     "data": {
      "text/plain": [
       "3"
      ]
     },
     "execution_count": 11,
     "metadata": {},
     "output_type": "execute_result"
    }
   ],
   "source": [
    "x"
   ]
  },
  {
   "cell_type": "code",
   "execution_count": 12,
   "metadata": {},
   "outputs": [
    {
     "data": {
      "text/plain": [
       "27"
      ]
     },
     "execution_count": 12,
     "metadata": {},
     "output_type": "execute_result"
    }
   ],
   "source": [
    "x**x"
   ]
  },
  {
   "cell_type": "code",
   "execution_count": 14,
   "metadata": {},
   "outputs": [
    {
     "data": {
      "text/plain": [
       "2310809578111909272693109431184832846484968454396283812529115413319435556973292122101720139716262409469889717513948376726158501486182636383531313869623735751595188198743086350673413093292498741784795660389148326466211372843337723144590341000538769498117226562808444716579845071408688720747381120135479199680471885180482121554984483377022066232113498842614313541610752653690490275184816645775562870080222550532658199952189433551842563700110684899935346509404097452154895288699360903786484615575470777362920177718027703180305669825349020152868844727956235156059960772077214312800556301983539901820176796454299860300131486822074451633519214994291242241850066416567586776526981799888092096865174444248800546127994730384671200620078154936387315118122040519117349396356198197315367766646921156257797160661163192060277301722871797101013527586327674333920080776435765228230385762165404932957246335621254520607306174400378047735376342518713628466946614321497738427647167939078993913147690702992638955965837451910388196619417991842556404018337740923222175380153877003983519741457506625666074023573361964063311318755920947209571433341645962479076131201964416276406387762072361807631460445372486964777059883706070699922193176468574966898852772974365576953262531708962699524486008324366541931862849776343129934761158587798436540362085500749517170402734545433993099089688531543345393342814833105525138762128016370025483881594201769798453765660001"
      ]
     },
     "execution_count": 14,
     "metadata": {},
     "output_type": "execute_result"
    }
   ],
   "source": [
    "x**(1000*x)"
   ]
  },
  {
   "cell_type": "markdown",
   "metadata": {},
   "source": [
    "## Latihan 4\n",
    "Buatlah program yang terdiri dari `print()`, *comment*, penggunaan variabel, dan operasi bilangan!"
   ]
  },
  {
   "cell_type": "markdown",
   "metadata": {},
   "source": [
    "## 5. *String* dan Teks"
   ]
  },
  {
   "cell_type": "markdown",
   "metadata": {},
   "source": [
    "String adalah tipe data teks dalam Python. Biasanya dideklarasikan menggunakan petik '' atau \"\""
   ]
  },
  {
   "cell_type": "code",
   "execution_count": 28,
   "metadata": {},
   "outputs": [
    {
     "data": {
      "text/plain": [
       "str"
      ]
     },
     "execution_count": 28,
     "metadata": {},
     "output_type": "execute_result"
    }
   ],
   "source": [
    "type(teks)"
   ]
  },
  {
   "cell_type": "code",
   "execution_count": 29,
   "metadata": {},
   "outputs": [
    {
     "data": {
      "text/plain": [
       "int"
      ]
     },
     "execution_count": 29,
     "metadata": {},
     "output_type": "execute_result"
    }
   ],
   "source": [
    "b = 3\n",
    "type(b)"
   ]
  },
  {
   "cell_type": "code",
   "execution_count": 30,
   "metadata": {},
   "outputs": [
    {
     "data": {
      "text/plain": [
       "'3'"
      ]
     },
     "execution_count": 30,
     "metadata": {},
     "output_type": "execute_result"
    }
   ],
   "source": [
    "str(b)"
   ]
  },
  {
   "cell_type": "code",
   "execution_count": 31,
   "metadata": {},
   "outputs": [
    {
     "data": {
      "text/plain": [
       "3"
      ]
     },
     "execution_count": 31,
     "metadata": {},
     "output_type": "execute_result"
    }
   ],
   "source": [
    "int(str(b))"
   ]
  },
  {
   "cell_type": "markdown",
   "metadata": {},
   "source": [
    "## Latihan 5\n",
    "Tambahkan operasi string pada program Latihan 4!"
   ]
  },
  {
   "cell_type": "markdown",
   "metadata": {},
   "source": [
    "## 6. `raw_input()`"
   ]
  },
  {
   "cell_type": "markdown",
   "metadata": {},
   "source": [
    "Seringkali kita membutuhkan input dari user."
   ]
  },
  {
   "cell_type": "code",
   "execution_count": 37,
   "metadata": {},
   "outputs": [
    {
     "name": "stdout",
     "output_type": "stream",
     "text": [
      "Masukkan nama: > Tahta\n",
      "Masukkan umur: > 24\n",
      "Masukkan hobi: > bermain musik\n",
      "Hai, nama saya Tahta, umur saya 24 tahun dan hobi saya bermain musik.\n"
     ]
    }
   ],
   "source": [
    "# Contoh sederhana penggunaan input\n",
    "nama = input(\"Masukkan nama: > \")\n",
    "umur = input(\"Masukkan umur: > \")\n",
    "hobi = input(\"Masukkan hobi: > \")\n",
    "print(\"Hai, nama saya {}, umur saya {} tahun dan hobi saya {}.\".format(nama,umur,hobi))"
   ]
  },
  {
   "cell_type": "markdown",
   "metadata": {},
   "source": [
    "## Latihan 6\n",
    "Buatlah program yang menanyakan nama, umur, dan kebutuhan uang rata-rata dalam satu hari (24jam), lalu hitung perkiraan kebutuhan uangnya dalam satu bulan (30 hari) dan 1 tahun (365 hari)!"
   ]
  },
  {
   "cell_type": "markdown",
   "metadata": {},
   "source": [
    "## 7. Argumen `argv`"
   ]
  },
  {
   "cell_type": "markdown",
   "metadata": {},
   "source": [
    "Argumen adalah opsi yang diinputkan ke dalam program/script."
   ]
  },
  {
   "cell_type": "code",
   "execution_count": null,
   "metadata": {
    "collapsed": true
   },
   "outputs": [],
   "source": [
    "# Contoh sederhana penggunaan input\n",
    "from sys import argv\n",
    "script, nama, umur, hobi = argv\n",
    "print(\"Hai, nama saya {}, umur saya {} tahun dan hobi saya {}.\".format(nama,umur,hobi))"
   ]
  },
  {
   "cell_type": "markdown",
   "metadata": {
    "collapsed": true
   },
   "source": [
    "## 8. Modul"
   ]
  },
  {
   "cell_type": "markdown",
   "metadata": {
    "collapsed": true
   },
   "source": [
    "Modul adalah aplikasi (objek) tambahan dalam Python yang digunakan untuk mendukung program kita. Contoh umum adalah `math` dan `numpy`."
   ]
  },
  {
   "cell_type": "code",
   "execution_count": 39,
   "metadata": {
    "collapsed": true
   },
   "outputs": [],
   "source": [
    "import math"
   ]
  },
  {
   "cell_type": "code",
   "execution_count": 40,
   "metadata": {},
   "outputs": [
    {
     "data": {
      "text/plain": [
       "3"
      ]
     },
     "execution_count": 40,
     "metadata": {},
     "output_type": "execute_result"
    }
   ],
   "source": [
    "math.ceil(2.5)"
   ]
  },
  {
   "cell_type": "code",
   "execution_count": 41,
   "metadata": {},
   "outputs": [
    {
     "data": {
      "text/plain": [
       "array([[42, 99, 33, 96,  2],\n",
       "       [63,  3, 52, 95, 99],\n",
       "       [18, 78,  8, 21, 50],\n",
       "       [41, 16, 20, 47, 34],\n",
       "       [56, 55, 22, 75,  7],\n",
       "       [92, 99, 81, 82, 61],\n",
       "       [87,  6, 74, 69, 84],\n",
       "       [79, 83, 42, 11, 48],\n",
       "       [90, 12,  6, 18, 97],\n",
       "       [20, 83,  3, 58, 60]])"
      ]
     },
     "execution_count": 41,
     "metadata": {},
     "output_type": "execute_result"
    }
   ],
   "source": [
    "import numpy as N\n",
    "N.random.randint(low=0, high=100, size=(10,5))"
   ]
  },
  {
   "cell_type": "markdown",
   "metadata": {},
   "source": [
    "## Latihan 7\n",
    "Hitung nilai fungsi $\\sin(x), \\cos(x), \\tan(x)$ dengan $x=\\{0, \\pi/6, \\pi/4, \\pi/3, \\pi/2, 3\\pi/2, \\pi\\}$!"
   ]
  },
  {
   "cell_type": "markdown",
   "metadata": {
    "collapsed": true
   },
   "source": [
    "## Latihan 8\n",
    "1. Buatlah program untuk print nama, alamat, usia, masing-masing bertipe string, string dan integer\n",
    "2. Print 100 bilangan genap tak negatif pertama\n",
    "3. Print 100 bilangan ganjil tak negatif pertama\n",
    "4. Buatlah program untuk memeriksa apakah suatu bilangan termasuk bilangan prima!\n",
    "5. Print 50 bilangan pertama!"
   ]
  }
 ],
 "metadata": {
  "kernelspec": {
   "display_name": "Python 3",
   "language": "python",
   "name": "python3"
  },
  "language_info": {
   "codemirror_mode": {
    "name": "ipython",
    "version": 3
   },
   "file_extension": ".py",
   "mimetype": "text/x-python",
   "name": "python",
   "nbconvert_exporter": "python",
   "pygments_lexer": "ipython3",
   "version": "3.5.2"
  }
 },
 "nbformat": 4,
 "nbformat_minor": 2
}
