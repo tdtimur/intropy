{
 "cells": [
  {
   "cell_type": "markdown",
   "metadata": {},
   "source": [
    "# Bagian I: Python Intro"
   ]
  },
  {
   "cell_type": "markdown",
   "metadata": {},
   "source": [
    "## 1. Apakah Python?"
   ]
  },
  {
   "cell_type": "markdown",
   "metadata": {},
   "source": [
    "Python adalah bahasa pemrograman tingkat tinggi (*high-level*) untuk kebutuhan program secara umum. Python adalah bahasa yang terinterpretasi, yaitu tanpa melalui proses *compile* seperti pada C atau C++. Kode pada Python akan dibaca baris per baris dan dijalankan oleh *interpreter*. *Script* Python memiliki ekstensi .py secara konvensional. File ini berisi kode-kode yang akan dieksekusi ketika dipanggil.\n",
    "\n",
    "Python dirancang untuk memudahkan pemrograman, dengan mengutamakan keterbacaan (*readability*) yang diantaranya ditunjukkan dalam penggunaan indentasi untuk memisahkan blok-blok kode dan sederhana secara sintaks. Hal ini kontras dengan bahasa pemrograman lain yang biasanya menggunakan tanda kurung sebagai pemisah."
   ]
  },
  {
   "cell_type": "markdown",
   "metadata": {},
   "source": [
    "## 2. Mengapa Python?"
   ]
  },
  {
   "cell_type": "markdown",
   "metadata": {
    "collapsed": true
   },
   "source": [
    "#### Pro\n",
    "1. Mudah\n",
    "Salah satu kelebihan Python yang sering diunggulkan adalah kemudahan dan kesederhanaannya. Sebagai contoh, kita akan membuat program untuk menampilkan barisan Fibonacci dalam bahasa C dan Python.\n",
    "Dalam C:\n",
    "```c\n",
    "#include <stdio.h>\n",
    "int main()\n",
    "{\n",
    "    int i, n, t1 = 0, t2 = 1, nextTerm;\n",
    "    printf(\"Enter the number of terms: \");\n",
    "    scanf(\"%d\", &n);\n",
    "    printf(\"Fibonacci Series: \");\n",
    "    for (i = 1; i <= n; ++i)\n",
    "    {\n",
    "        printf(\"%d, \", t1);\n",
    "        nextTerm = t1 + t2;\n",
    "        t1 = t2;\n",
    "        t2 = nextTerm;\n",
    "    }\n",
    "    return 0;\n",
    "}\n",
    "```\n",
    "dan dalam Python:\n",
    "```python\n",
    "def fib(n):\n",
    "    if n < 2:\n",
    "        return n\n",
    "    return fib(n-2) + fib(n-1)\n",
    "```\n",
    "Penulisan dalam C membutuhkan 16 baris, sedangkan dalam Python hanya membutuhkan 4 baris. Ini menunjukkan bahwa Python lebih sederhana dalam penggunaannya.\n",
    "2. Lengkap\n",
    "Python memiliki modul-modul yang lengkap, yang dapat memenuhi kebutuhan pemrograman kita secara umum. Modul-modul yang dimaksud adalah modul komputasi numerik, simbolik, jaringan komputer, GUI, software bisnis dll.\n",
    "3. Multiplatform\n",
    "Python tersedia untuk berbagai macam sistem termasuk Windows, Linux dan macOS, dan untuk bermacam arsitektur, mulai dari Intel, Power, dan ARM.\n",
    "4. Umum\n",
    "Python dapat digunakan untuk hampir semua masalah komputasi tingkat tinggi; desktop, mobile, web, cloud, sains, dll.\n",
    "\n",
    "#### Kontra\n",
    "1. Kecepatan\n",
    "Salah satu kelemahan Python yang sering disoroti adalah kecepatannya yang cukup rendah bila dibandingkan dengan C atau C++. Hal ini dikarenakan Python adalah bahasa terinterpretasi. Tetapi masalah ini masih dapat ditoleransi karena Python cukup mudah dalam penggunaannya. Selain itu, kemudahan Python dan kecepatan C dapat diperoleh dengan Cython, yaitu bahasa Python yang terkompilasi."
   ]
  },
  {
   "cell_type": "markdown",
   "metadata": {},
   "source": [
    "## 3. Instalasi"
   ]
  },
  {
   "cell_type": "markdown",
   "metadata": {},
   "source": [
    "### Native"
   ]
  },
  {
   "cell_type": "markdown",
   "metadata": {
    "collapsed": true
   },
   "source": [
    "1. Download installer terbaru dari python.org\n",
    "2. Install\n",
    "3. Buka command line, lalu ketikkan `>>> python`\n",
    "4. Ketikkan perintah `>>> version()`"
   ]
  },
  {
   "cell_type": "markdown",
   "metadata": {},
   "source": [
    "### Docker"
   ]
  },
  {
   "cell_type": "markdown",
   "metadata": {
    "collapsed": true
   },
   "source": [
    "1. Download Docker Windows dari (https://store.docker.com/editions/community/docker-ce-desktop-windows)\n",
    "2. Install Docker\n",
    "3. Buka command line, ketikkan perintah `> docker run -it -p 8888:8888 tensorflow/tensorflow:latest`"
   ]
  },
  {
   "cell_type": "markdown",
   "metadata": {},
   "source": [
    "### Package Manager `pip`"
   ]
  },
  {
   "cell_type": "markdown",
   "metadata": {
    "collapsed": true
   },
   "source": [
    "`pip` adalah manajer aplikasi Python. Dengan `pip` kita dapat menginstall aplikasi-aplikasi tambahan untuk Python. Misal untuk kebutuhan komputasi numerik, kita membutuhkan Numpy. Dengan `pip`, eksekusi perintah `> pip install numpy`"
   ]
  },
  {
   "cell_type": "markdown",
   "metadata": {},
   "source": [
    "## 4. Contoh Penggunaan"
   ]
  },
  {
   "cell_type": "markdown",
   "metadata": {},
   "source": [
    "### Dasar"
   ]
  },
  {
   "cell_type": "markdown",
   "metadata": {
    "collapsed": true
   },
   "source": [
    "Contoh program sederhana dalam Python adalah program fungsi faktorial. Fungsi faktorial ditulis sebagai $n!$, yang didefinisikan $$n!=n\\cdot (n-1) \\cdot (n-2) \\ldots 3 \\cdot 2 \\cdot 1$$ atau secara rekursif bisa dinyatakan sebagai $$n!=n\\cdot (n-1)!.$$ Secara konvensi $0!=1$ dan $1!=1$. Hubungan rekursif ini dalam Python dapat ditulis sebagai:\n",
    "```python\n",
    "def faktorial(n):\n",
    "    if n==0:\n",
    "        return 1\n",
    "    else:\n",
    "        return n * faktorial(n-1)\n",
    "```"
   ]
  },
  {
   "cell_type": "markdown",
   "metadata": {},
   "source": [
    "### Numerik"
   ]
  },
  {
   "cell_type": "code",
   "execution_count": 21,
   "metadata": {},
   "outputs": [],
   "source": [
    "import numpy as np\n",
    "A = np.random.randint(low=0, high=199, size=(300,300))\n",
    "B = np.random.randint(low=0, high=199, size=(300,800))"
   ]
  },
  {
   "cell_type": "code",
   "execution_count": 22,
   "metadata": {},
   "outputs": [
    {
     "data": {
      "text/plain": [
       "(array([[115,  28, 105, ...,  40,   1, 142],\n",
       "        [ 45,  34,  73, ...,   4,  82,  28],\n",
       "        [ 89,  23, 102, ..., 191, 176,  67],\n",
       "        ..., \n",
       "        [ 43,  35, 193, ..., 139,  52, 108],\n",
       "        [100,  11, 102, ...,  39, 136,   1],\n",
       "        [119,  31,  10, ..., 158, 101, 176]]),\n",
       " array([[ 40, 106,  31, ...,  90,  70, 115],\n",
       "        [ 65,  27, 118, ...,  31,  54, 115],\n",
       "        [ 49,  69,  61, ..., 185,  71,  51],\n",
       "        ..., \n",
       "        [ 88,   8,  42, ...,  13, 135, 171],\n",
       "        [115,  92, 110, ..., 169,  97, 120],\n",
       "        [ 27, 100,  71, ...,  57, 190, 174]]))"
      ]
     },
     "execution_count": 22,
     "metadata": {},
     "output_type": "execute_result"
    }
   ],
   "source": [
    "# Pendefinisian matriks elemen random A dan B\n",
    "A,B"
   ]
  },
  {
   "cell_type": "code",
   "execution_count": 23,
   "metadata": {},
   "outputs": [
    {
     "name": "stdout",
     "output_type": "stream",
     "text": [
      "CPU times: user 130 ms, sys: 0 ns, total: 130 ms\n",
      "Wall time: 134 ms\n"
     ]
    },
    {
     "data": {
      "text/plain": [
       "array([[3027918, 3051807, 2936616, ..., 2763545, 2859813, 2996294],\n",
       "       [3104186, 3071974, 3143282, ..., 2893758, 2900737, 2926660],\n",
       "       [3227117, 3198823, 3180015, ..., 2915252, 3000203, 3165277],\n",
       "       ..., \n",
       "       [2986800, 3001458, 2906561, ..., 2700080, 2844170, 2993051],\n",
       "       [3166906, 3049911, 3041952, ..., 2776476, 2824559, 2981969],\n",
       "       [3052893, 2955579, 2934603, ..., 2748705, 2947889, 2977434]])"
      ]
     },
     "execution_count": 23,
     "metadata": {},
     "output_type": "execute_result"
    }
   ],
   "source": [
    "# Perkalian dot A dan B hanya 130 ms\n",
    "%time np.dot(A,B)"
   ]
  },
  {
   "cell_type": "code",
   "execution_count": 24,
   "metadata": {},
   "outputs": [
    {
     "name": "stdout",
     "output_type": "stream",
     "text": [
      "CPU times: user 30 ms, sys: 10 ms, total: 40 ms\n",
      "Wall time: 35.3 ms\n"
     ]
    },
    {
     "data": {
      "text/plain": [
       "array([[  7.14739820e-04,  -5.92778343e-04,   3.91693339e-04, ...,\n",
       "         -6.30683892e-04,   4.92710123e-04,   3.68004569e-04],\n",
       "       [  2.16218256e-05,  -2.63941450e-05,  -4.27559891e-04, ...,\n",
       "         -7.91905596e-04,   5.28484002e-04,  -1.70150976e-04],\n",
       "       [ -1.45213596e-04,   2.46988149e-04,   9.37026403e-05, ...,\n",
       "         -1.74788179e-04,   1.00855984e-03,  -1.69016097e-04],\n",
       "       ..., \n",
       "       [  1.29642550e-05,  -1.79901496e-04,   2.64307080e-04, ...,\n",
       "          1.49865074e-04,   3.03506383e-04,  -1.43134602e-04],\n",
       "       [  4.02898997e-04,  -8.19990620e-04,  -1.23426010e-03, ...,\n",
       "         -2.06282727e-03,  -2.71884452e-04,   4.90955854e-04],\n",
       "       [  2.66003181e-04,  -2.57650709e-04,   6.24100626e-04, ...,\n",
       "         -1.43545000e-04,   5.22820854e-05,   7.85939732e-04]])"
      ]
     },
     "execution_count": 24,
     "metadata": {},
     "output_type": "execute_result"
    }
   ],
   "source": [
    "# invers dari matriks A hanya 30 ms\n",
    "%time np.linalg.inv(A)"
   ]
  },
  {
   "cell_type": "code",
   "execution_count": 25,
   "metadata": {
    "collapsed": true
   },
   "outputs": [],
   "source": [
    "C = np.random.randint(low=0, high=5990, size=(6000,6000))"
   ]
  },
  {
   "cell_type": "code",
   "execution_count": 26,
   "metadata": {},
   "outputs": [
    {
     "data": {
      "text/plain": [
       "array([[1570, 1593, 4664, ..., 1873, 3520,  379],\n",
       "       [2547, 1279,  486, ...,  245, 2376, 1836],\n",
       "       [ 479, 2458, 4410, ..., 2595, 5953,   17],\n",
       "       ..., \n",
       "       [1487, 5012, 3984, ...,  588,  335, 2543],\n",
       "       [ 294, 5648, 1158, ..., 2000, 3805, 4599],\n",
       "       [3096, 3865, 4893, ..., 4219,  904, 5185]])"
      ]
     },
     "execution_count": 26,
     "metadata": {},
     "output_type": "execute_result"
    }
   ],
   "source": [
    "C"
   ]
  },
  {
   "cell_type": "code",
   "execution_count": 27,
   "metadata": {},
   "outputs": [
    {
     "name": "stdout",
     "output_type": "stream",
     "text": [
      "CPU times: user 20.8 s, sys: 2.05 s, total: 22.9 s\n",
      "Wall time: 12.8 s\n"
     ]
    },
    {
     "data": {
      "text/plain": [
       "array([[  1.19248835e-05,  -4.97853756e-05,  -1.22476557e-05, ...,\n",
       "         -1.22616621e-05,   3.62797306e-05,   5.64686843e-05],\n",
       "       [ -4.94969372e-06,  -1.96843004e-05,  -9.87242935e-06, ...,\n",
       "         -5.29448385e-06,   1.29346837e-05,   1.77157636e-05],\n",
       "       [ -8.40123592e-06,  -3.07930310e-06,  -2.83304396e-06, ...,\n",
       "         -1.48251317e-06,  -5.38864353e-06,   1.75679275e-06],\n",
       "       ..., \n",
       "       [  1.33488522e-05,   1.66189078e-05,   1.37898552e-05, ...,\n",
       "          3.01491501e-06,  -2.58385066e-06,  -1.10241673e-05],\n",
       "       [  1.32902317e-05,   8.33130978e-06,   6.67304310e-06, ...,\n",
       "          2.92861905e-06,   2.73194388e-06,  -6.29668613e-06],\n",
       "       [ -1.87917218e-05,   3.11450749e-05,   5.57834241e-06, ...,\n",
       "          8.13136063e-06,  -2.06622400e-05,  -4.13933348e-05]])"
      ]
     },
     "execution_count": 27,
     "metadata": {},
     "output_type": "execute_result"
    }
   ],
   "source": [
    "# Waktu komputasi invers matriks 6000 x 6000 adalah 20.8 detik !\n",
    "%time np.linalg.inv(C)"
   ]
  },
  {
   "cell_type": "code",
   "execution_count": 32,
   "metadata": {},
   "outputs": [
    {
     "ename": "LinAlgError",
     "evalue": "Singular matrix",
     "output_type": "error",
     "traceback": [
      "\u001b[0;31m\u001b[0m",
      "\u001b[0;31mLinAlgError\u001b[0mTraceback (most recent call last)",
      "\u001b[0;32m<ipython-input-32-89174734e9a9>\u001b[0m in \u001b[0;36m<module>\u001b[0;34m()\u001b[0m\n\u001b[1;32m      1\u001b[0m \u001b[0;31m# Matriks yang tidak mempunyai invers\u001b[0m\u001b[0;34m\u001b[0m\u001b[0;34m\u001b[0m\u001b[0m\n\u001b[1;32m      2\u001b[0m \u001b[0mD\u001b[0m \u001b[0;34m=\u001b[0m \u001b[0mnp\u001b[0m\u001b[0;34m.\u001b[0m\u001b[0mmatrix\u001b[0m\u001b[0;34m(\u001b[0m\u001b[0;34m[\u001b[0m\u001b[0;34m[\u001b[0m\u001b[0;36m2\u001b[0m\u001b[0;34m,\u001b[0m\u001b[0;36m4\u001b[0m\u001b[0;34m]\u001b[0m\u001b[0;34m,\u001b[0m\u001b[0;34m[\u001b[0m\u001b[0;36m1\u001b[0m\u001b[0;34m,\u001b[0m\u001b[0;36m2\u001b[0m\u001b[0;34m]\u001b[0m\u001b[0;34m]\u001b[0m\u001b[0;34m)\u001b[0m\u001b[0;34m\u001b[0m\u001b[0m\n\u001b[0;32m----> 3\u001b[0;31m \u001b[0mnp\u001b[0m\u001b[0;34m.\u001b[0m\u001b[0mlinalg\u001b[0m\u001b[0;34m.\u001b[0m\u001b[0minv\u001b[0m\u001b[0;34m(\u001b[0m\u001b[0mD\u001b[0m\u001b[0;34m)\u001b[0m\u001b[0;34m\u001b[0m\u001b[0m\n\u001b[0m",
      "\u001b[0;32m/usr/local/lib/python3.5/dist-packages/numpy/linalg/linalg.py\u001b[0m in \u001b[0;36minv\u001b[0;34m(a)\u001b[0m\n\u001b[1;32m    511\u001b[0m     \u001b[0msignature\u001b[0m \u001b[0;34m=\u001b[0m \u001b[0;34m'D->D'\u001b[0m \u001b[0;32mif\u001b[0m \u001b[0misComplexType\u001b[0m\u001b[0;34m(\u001b[0m\u001b[0mt\u001b[0m\u001b[0;34m)\u001b[0m \u001b[0;32melse\u001b[0m \u001b[0;34m'd->d'\u001b[0m\u001b[0;34m\u001b[0m\u001b[0m\n\u001b[1;32m    512\u001b[0m     \u001b[0mextobj\u001b[0m \u001b[0;34m=\u001b[0m \u001b[0mget_linalg_error_extobj\u001b[0m\u001b[0;34m(\u001b[0m\u001b[0m_raise_linalgerror_singular\u001b[0m\u001b[0;34m)\u001b[0m\u001b[0;34m\u001b[0m\u001b[0m\n\u001b[0;32m--> 513\u001b[0;31m     \u001b[0mainv\u001b[0m \u001b[0;34m=\u001b[0m \u001b[0m_umath_linalg\u001b[0m\u001b[0;34m.\u001b[0m\u001b[0minv\u001b[0m\u001b[0;34m(\u001b[0m\u001b[0ma\u001b[0m\u001b[0;34m,\u001b[0m \u001b[0msignature\u001b[0m\u001b[0;34m=\u001b[0m\u001b[0msignature\u001b[0m\u001b[0;34m,\u001b[0m \u001b[0mextobj\u001b[0m\u001b[0;34m=\u001b[0m\u001b[0mextobj\u001b[0m\u001b[0;34m)\u001b[0m\u001b[0;34m\u001b[0m\u001b[0m\n\u001b[0m\u001b[1;32m    514\u001b[0m     \u001b[0;32mreturn\u001b[0m \u001b[0mwrap\u001b[0m\u001b[0;34m(\u001b[0m\u001b[0mainv\u001b[0m\u001b[0;34m.\u001b[0m\u001b[0mastype\u001b[0m\u001b[0;34m(\u001b[0m\u001b[0mresult_t\u001b[0m\u001b[0;34m,\u001b[0m \u001b[0mcopy\u001b[0m\u001b[0;34m=\u001b[0m\u001b[0;32mFalse\u001b[0m\u001b[0;34m)\u001b[0m\u001b[0;34m)\u001b[0m\u001b[0;34m\u001b[0m\u001b[0m\n\u001b[1;32m    515\u001b[0m \u001b[0;34m\u001b[0m\u001b[0m\n",
      "\u001b[0;32m/usr/local/lib/python3.5/dist-packages/numpy/linalg/linalg.py\u001b[0m in \u001b[0;36m_raise_linalgerror_singular\u001b[0;34m(err, flag)\u001b[0m\n\u001b[1;32m     88\u001b[0m \u001b[0;34m\u001b[0m\u001b[0m\n\u001b[1;32m     89\u001b[0m \u001b[0;32mdef\u001b[0m \u001b[0m_raise_linalgerror_singular\u001b[0m\u001b[0;34m(\u001b[0m\u001b[0merr\u001b[0m\u001b[0;34m,\u001b[0m \u001b[0mflag\u001b[0m\u001b[0;34m)\u001b[0m\u001b[0;34m:\u001b[0m\u001b[0;34m\u001b[0m\u001b[0m\n\u001b[0;32m---> 90\u001b[0;31m     \u001b[0;32mraise\u001b[0m \u001b[0mLinAlgError\u001b[0m\u001b[0;34m(\u001b[0m\u001b[0;34m\"Singular matrix\"\u001b[0m\u001b[0;34m)\u001b[0m\u001b[0;34m\u001b[0m\u001b[0m\n\u001b[0m\u001b[1;32m     91\u001b[0m \u001b[0;34m\u001b[0m\u001b[0m\n\u001b[1;32m     92\u001b[0m \u001b[0;32mdef\u001b[0m \u001b[0m_raise_linalgerror_nonposdef\u001b[0m\u001b[0;34m(\u001b[0m\u001b[0merr\u001b[0m\u001b[0;34m,\u001b[0m \u001b[0mflag\u001b[0m\u001b[0;34m)\u001b[0m\u001b[0;34m:\u001b[0m\u001b[0;34m\u001b[0m\u001b[0m\n",
      "\u001b[0;31mLinAlgError\u001b[0m: Singular matrix"
     ]
    }
   ],
   "source": [
    "# Matriks yang tidak mempunyai invers\n",
    "D = np.matrix([[2,4],[1,2]])\n",
    "np.linalg.inv(D)"
   ]
  },
  {
   "cell_type": "markdown",
   "metadata": {},
   "source": [
    "### Simbolik"
   ]
  },
  {
   "cell_type": "code",
   "execution_count": 37,
   "metadata": {},
   "outputs": [],
   "source": [
    "# Komputasi simbolik menggunakan SymPy\n",
    "from sympy import Symbol\n",
    "x = Symbol('x')\n",
    "y = Symbol('y')"
   ]
  },
  {
   "cell_type": "code",
   "execution_count": 38,
   "metadata": {},
   "outputs": [
    {
     "data": {
      "text/plain": [
       "x"
      ]
     },
     "execution_count": 38,
     "metadata": {},
     "output_type": "execute_result"
    }
   ],
   "source": [
    "# Pengurangan\n",
    "2 * x - x"
   ]
  },
  {
   "cell_type": "code",
   "execution_count": 41,
   "metadata": {},
   "outputs": [
    {
     "data": {
      "text/plain": [
       "2*y**2"
      ]
     },
     "execution_count": 41,
     "metadata": {},
     "output_type": "execute_result"
    }
   ],
   "source": [
    "# Perkalian\n",
    "2*y*y"
   ]
  },
  {
   "cell_type": "code",
   "execution_count": 46,
   "metadata": {
    "collapsed": true
   },
   "outputs": [],
   "source": [
    "from sympy import Symbol , exp , sin , cos , sqrt , diff"
   ]
  },
  {
   "cell_type": "markdown",
   "metadata": {},
   "source": [
    "Turunan parsial berikut akan dihitung $\\frac{\\partial}{\\partial{y}}\\sin{x}$, $\\frac{\\partial}{\\partial{x}}\\sin{y}$, dan $\\frac{\\partial}{\\partial{x}}\\sin{x}\\cos{y}$"
   ]
  },
  {
   "cell_type": "code",
   "execution_count": 48,
   "metadata": {},
   "outputs": [
    {
     "data": {
      "text/plain": [
       "(0, 0, cos(x)*cos(y))"
      ]
     },
     "execution_count": 48,
     "metadata": {},
     "output_type": "execute_result"
    }
   ],
   "source": [
    "# Turunan Parsial\n",
    "diff(sin(x),y), diff(sin(y),x), diff((sin(x)*cos(y)),x)"
   ]
  },
  {
   "cell_type": "markdown",
   "metadata": {},
   "source": [
    "### Statistika"
   ]
  },
  {
   "cell_type": "code",
   "execution_count": 44,
   "metadata": {},
   "outputs": [
    {
     "data": {
      "text/plain": [
       "2"
      ]
     },
     "execution_count": 44,
     "metadata": {},
     "output_type": "execute_result"
    }
   ],
   "source": [
    "diff(x**2,x,x)"
   ]
  },
  {
   "cell_type": "markdown",
   "metadata": {},
   "source": [
    "### Plot"
   ]
  },
  {
   "cell_type": "code",
   "execution_count": null,
   "metadata": {
    "collapsed": true
   },
   "outputs": [],
   "source": []
  }
 ],
 "metadata": {
  "kernelspec": {
   "display_name": "Python 3",
   "language": "python",
   "name": "python3"
  },
  "language_info": {
   "codemirror_mode": {
    "name": "ipython",
    "version": 3
   },
   "file_extension": ".py",
   "mimetype": "text/x-python",
   "name": "python",
   "nbconvert_exporter": "python",
   "pygments_lexer": "ipython3",
   "version": "3.5.2"
  }
 },
 "nbformat": 4,
 "nbformat_minor": 2
}
