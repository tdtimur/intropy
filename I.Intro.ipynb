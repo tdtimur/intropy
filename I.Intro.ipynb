{
 "cells": [
  {
   "cell_type": "markdown",
   "metadata": {
    "deletable": true,
    "editable": true
   },
   "source": [
    "# Bagian I: Python Intro"
   ]
  },
  {
   "cell_type": "markdown",
   "metadata": {
    "deletable": true,
    "editable": true
   },
   "source": [
    "## 1. Apakah Python?"
   ]
  },
  {
   "cell_type": "markdown",
   "metadata": {
    "deletable": true,
    "editable": true
   },
   "source": [
    "Python adalah bahasa pemrograman tingkat tinggi (*high-level*) untuk kebutuhan program secara umum. Python adalah bahasa yang terinterpretasi, yaitu tanpa melalui proses *compile* seperti pada C atau C++. Kode pada Python akan dibaca baris per baris dan dijalankan oleh *interpreter*. *Script* Python memiliki ekstensi .py secara konvensional. File ini berisi kode-kode yang akan dieksekusi ketika dipanggil.\n",
    "\n",
    "Python dirancang untuk memudahkan pemrograman, dengan mengutamakan keterbacaan (*readability*) yang diantaranya ditunjukkan dalam penggunaan indentasi untuk memisahkan blok-blok kode dan sederhana secara sintaks. Hal ini kontras dengan bahasa pemrograman lain yang biasanya menggunakan tanda kurung sebagai pemisah."
   ]
  },
  {
   "cell_type": "markdown",
   "metadata": {
    "deletable": true,
    "editable": true
   },
   "source": [
    "## 2. Mengapa Python?"
   ]
  },
  {
   "cell_type": "markdown",
   "metadata": {
    "collapsed": true,
    "deletable": true,
    "editable": true
   },
   "source": [
    "#### Pro\n",
    "1. Mudah\n",
    "Salah satu kelebihan Python yang sering diunggulkan adalah kemudahan dan kesederhanaannya. Sebagai contoh, kita akan membuat program untuk menampilkan barisan Fibonacci dalam bahasa C dan Python.\n",
    "Dalam C:\n",
    "```c\n",
    "#include <stdio.h>\n",
    "int main()\n",
    "{\n",
    "    int i, n, t1 = 0, t2 = 1, nextTerm;\n",
    "    printf(\"Enter the number of terms: \");\n",
    "    scanf(\"%d\", &n);\n",
    "    printf(\"Fibonacci Series: \");\n",
    "    for (i = 1; i <= n; ++i)\n",
    "    {\n",
    "        printf(\"%d, \", t1);\n",
    "        nextTerm = t1 + t2;\n",
    "        t1 = t2;\n",
    "        t2 = nextTerm;\n",
    "    }\n",
    "    return 0;\n",
    "}\n",
    "```\n",
    "dan dalam Python:\n",
    "```python\n",
    "def fib(n):\n",
    "    if n < 2:\n",
    "        return n\n",
    "    return fib(n-2) + fib(n-1)\n",
    "```\n",
    "Penulisan dalam C membutuhkan 16 baris, sedangkan dalam Python hanya membutuhkan 4 baris. Ini menunjukkan bahwa Python lebih sederhana dalam penggunaannya.\n",
    "2. Lengkap\n",
    "Python memiliki modul-modul yang lengkap, yang dapat memenuhi kebutuhan pemrograman kita secara umum. Modul-modul yang dimaksud adalah modul komputasi numerik, simbolik, jaringan komputer, GUI, software bisnis dll.\n",
    "3. Multiplatform\n",
    "Python tersedia untuk berbagai macam sistem termasuk Windows, Linux dan macOS, dan untuk bermacam arsitektur, mulai dari Intel, Power, dan ARM.\n",
    "4. Umum\n",
    "Python dapat digunakan untuk hampir semua masalah komputasi tingkat tinggi; desktop, mobile, web, cloud, sains, dll.\n",
    "\n",
    "#### Kontra\n",
    "1. Kecepatan\n",
    "Salah satu kelemahan Python yang sering disoroti adalah kecepatannya yang cukup rendah bila dibandingkan dengan C atau C++. Hal ini dikarenakan Python adalah bahasa terinterpretasi. Tetapi masalah ini masih dapat ditoleransi karena Python cukup mudah dalam penggunaannya. Selain itu, kemudahan Python dan kecepatan C dapat diperoleh dengan Cython, yaitu bahasa Python yang terkompilasi."
   ]
  },
  {
   "cell_type": "markdown",
   "metadata": {
    "deletable": true,
    "editable": true
   },
   "source": [
    "## 3. Instalasi"
   ]
  },
  {
   "cell_type": "markdown",
   "metadata": {
    "deletable": true,
    "editable": true
   },
   "source": [
    "### Native"
   ]
  },
  {
   "cell_type": "markdown",
   "metadata": {
    "collapsed": true,
    "deletable": true,
    "editable": true
   },
   "source": [
    "1. Download installer terbaru dari python.org\n",
    "2. Install\n",
    "3. Buka command line, lalu ketikkan `>>> python`\n",
    "4. Ketikkan perintah `>>> version()`"
   ]
  },
  {
   "cell_type": "markdown",
   "metadata": {
    "deletable": true,
    "editable": true
   },
   "source": [
    "### Docker"
   ]
  },
  {
   "cell_type": "markdown",
   "metadata": {
    "collapsed": true,
    "deletable": true,
    "editable": true
   },
   "source": [
    "1. Download Docker Windows dari (https://store.docker.com/editions/community/docker-ce-desktop-windows)\n",
    "2. Install Docker\n",
    "3. Buka command line, ketikkan perintah `> docker run -it -p 8888:8888 tensorflow/tensorflow:latest`"
   ]
  },
  {
   "cell_type": "markdown",
   "metadata": {
    "deletable": true,
    "editable": true
   },
   "source": [
    "### Package Manager `pip`"
   ]
  },
  {
   "cell_type": "markdown",
   "metadata": {
    "collapsed": true,
    "deletable": true,
    "editable": true
   },
   "source": [
    "`pip` adalah manajer aplikasi Python. Dengan `pip` kita dapat menginstall aplikasi-aplikasi tambahan untuk Python. Misal untuk kebutuhan komputasi numerik, kita membutuhkan Numpy. Dengan `pip`, eksekusi perintah `> pip install numpy`"
   ]
  },
  {
   "cell_type": "markdown",
   "metadata": {
    "deletable": true,
    "editable": true
   },
   "source": [
    "## 4. Contoh Penggunaan"
   ]
  },
  {
   "cell_type": "markdown",
   "metadata": {
    "deletable": true,
    "editable": true
   },
   "source": [
    "### Dasar"
   ]
  },
  {
   "cell_type": "markdown",
   "metadata": {
    "collapsed": true,
    "deletable": true,
    "editable": true
   },
   "source": [
    "Contoh program sederhana dalam Python adalah program fungsi faktorial. Fungsi faktorial ditulis sebagai $n!$, yang didefinisikan $$n!=n\\cdot (n-1) \\cdot (n-2) \\ldots 3 \\cdot 2 \\cdot 1$$ atau secara rekursif bisa dinyatakan sebagai $$n!=n\\cdot (n-1)!.$$ Secara konvensi $0!=1$ dan $1!=1$. Hubungan rekursif ini dalam Python dapat ditulis sebagai:\n",
    "```python\n",
    "def faktorial(n):\n",
    "    if n==0:\n",
    "        return 1\n",
    "    else:\n",
    "        return n * faktorial(n-1)\n",
    "```"
   ]
  },
  {
   "cell_type": "markdown",
   "metadata": {
    "deletable": true,
    "editable": true
   },
   "source": [
    "### Numerik"
   ]
  },
  {
   "cell_type": "code",
   "execution_count": null,
   "metadata": {
    "collapsed": true,
    "deletable": true,
    "editable": true
   },
   "outputs": [],
   "source": []
  },
  {
   "cell_type": "markdown",
   "metadata": {
    "deletable": true,
    "editable": true
   },
   "source": [
    "### Simbolik"
   ]
  },
  {
   "cell_type": "code",
   "execution_count": null,
   "metadata": {
    "collapsed": true,
    "deletable": true,
    "editable": true
   },
   "outputs": [],
   "source": []
  },
  {
   "cell_type": "markdown",
   "metadata": {
    "deletable": true,
    "editable": true
   },
   "source": [
    "### Statistika"
   ]
  },
  {
   "cell_type": "code",
   "execution_count": null,
   "metadata": {
    "collapsed": true,
    "deletable": true,
    "editable": true
   },
   "outputs": [],
   "source": []
  },
  {
   "cell_type": "markdown",
   "metadata": {
    "deletable": true,
    "editable": true
   },
   "source": [
    "### Plot"
   ]
  },
  {
   "cell_type": "code",
   "execution_count": null,
   "metadata": {
    "collapsed": true,
    "deletable": true,
    "editable": true
   },
   "outputs": [],
   "source": []
  }
 ],
 "metadata": {
  "kernelspec": {
   "display_name": "Python 2",
   "language": "python",
   "name": "python2"
  },
  "language_info": {
   "codemirror_mode": {
    "name": "ipython",
    "version": 2
   },
   "file_extension": ".py",
   "mimetype": "text/x-python",
   "name": "python",
   "nbconvert_exporter": "python",
   "pygments_lexer": "ipython2",
   "version": "2.7.13"
  }
 },
 "nbformat": 4,
 "nbformat_minor": 2
}
