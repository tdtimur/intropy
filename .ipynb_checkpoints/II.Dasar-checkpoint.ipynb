{
 "cells": [
  {
   "cell_type": "markdown",
   "metadata": {},
   "source": [
    "# Bagian II: Dasar"
   ]
  },
  {
   "cell_type": "markdown",
   "metadata": {},
   "source": [
    "## 1. Program Pertama"
   ]
  },
  {
   "cell_type": "markdown",
   "metadata": {},
   "source": [
    "Dalam mempelajari bahasa pemrograman, biasanya diawali dengan pembuatan program `Hello World!`. Dalam Python, `print()` adalah fungsi untuk menampilkan output ke layar."
   ]
  },
  {
   "cell_type": "code",
   "execution_count": 3,
   "metadata": {},
   "outputs": [
    {
     "name": "stdout",
     "output_type": "stream",
     "text": [
      "Hello World!\n"
     ]
    }
   ],
   "source": [
    "print(\"Hello World!\")"
   ]
  },
  {
   "cell_type": "code",
   "execution_count": 6,
   "metadata": {},
   "outputs": [
    {
     "name": "stdout",
     "output_type": "stream",
     "text": [
      "Nama saya Tahta\n",
      "Saya sedang belajar Python\n",
      "Pertama saya belajar fungsi print\n"
     ]
    }
   ],
   "source": [
    "print(\"Nama saya Tahta\")\n",
    "print(\"Saya sedang belajar Python\")\n",
    "print(\"Pertama saya belajar fungsi print\")"
   ]
  },
  {
   "cell_type": "markdown",
   "metadata": {},
   "source": [
    "## 2. *Comment*"
   ]
  },
  {
   "cell_type": "markdown",
   "metadata": {},
   "source": [
    "Dalam bahasa pemrograman, *comment* menandakan bahwa kode tersebut tidak perlu dieksekusi. Hal ini penting untuk debugging, atau memberikan keterangan dalam kode untuk keterbacaan dan pelacakan blok-blok kode. Contoh:\n",
    "```python\n",
    "def suatu_fungsi(A, B, C, D):\n",
    "    # kode ini dieksekusi jika A=0\n",
    "    if A==0:\n",
    "        return print(\"A=0\")\n",
    "    .....\n",
    "    .....\n",
    "    # Keterangan lain\n",
    "    .....\n",
    "    .....\n",
    "    .....\n",
    "    # Sebuah keterangan lagi\n",
    "    elif:\n",
    "        return print(A+B+C)\n",
    "    # Keterangan terakhir\n",
    "    else:\n",
    "        return D\n",
    "```"
   ]
  },
  {
   "cell_type": "code",
   "execution_count": 7,
   "metadata": {},
   "outputs": [
    {
     "name": "stdout",
     "output_type": "stream",
     "text": [
      "Nama saya Tahta\n",
      "Saya sedang belajar Python\n",
      "Pertama saya belajar fungsi print\n"
     ]
    }
   ],
   "source": [
    "# Ini adalah comment\n",
    "print(\"Nama saya Tahta\")\n",
    "print(\"Saya sedang belajar Python\")\n",
    "print(\"Pertama saya belajar fungsi print\")"
   ]
  },
  {
   "cell_type": "code",
   "execution_count": 8,
   "metadata": {},
   "outputs": [
    {
     "name": "stdout",
     "output_type": "stream",
     "text": [
      "Saya sedang belajar Python\n",
      "Pertama saya belajar fungsi print\n"
     ]
    }
   ],
   "source": [
    "# Ini adalah comment\n",
    "# print(\"Nama saya Tahta\")\n",
    "print(\"Saya sedang belajar Python\")\n",
    "print(\"Pertama saya belajar fungsi print\")"
   ]
  },
  {
   "cell_type": "code",
   "execution_count": 9,
   "metadata": {
    "collapsed": true
   },
   "outputs": [],
   "source": [
    "# Ini adalah comment\n",
    "# print(\"Nama saya Tahta\")\n",
    "# print(\"Saya sedang belajar Python\")\n",
    "# print(\"Pertama saya belajar fungsi print\")"
   ]
  },
  {
   "cell_type": "markdown",
   "metadata": {},
   "source": [
    "## 3. Bilangan dan Operasinya"
   ]
  },
  {
   "cell_type": "markdown",
   "metadata": {
    "collapsed": true
   },
   "source": [
    "Dalam Python, bilangan bersifat *dynamically-typed*, artinya sebuah bilangan/variabel tidak harus dideklarasikan tipenya secara eksplisit. Berikut contoh-contoh perhitungan dasar."
   ]
  },
  {
   "cell_type": "code",
   "execution_count": 15,
   "metadata": {},
   "outputs": [
    {
     "data": {
      "text/plain": [
       "3"
      ]
     },
     "execution_count": 15,
     "metadata": {},
     "output_type": "execute_result"
    }
   ],
   "source": [
    "3"
   ]
  },
  {
   "cell_type": "code",
   "execution_count": 10,
   "metadata": {},
   "outputs": [
    {
     "data": {
      "text/plain": [
       "8"
      ]
     },
     "execution_count": 10,
     "metadata": {},
     "output_type": "execute_result"
    }
   ],
   "source": [
    "3 + 5"
   ]
  },
  {
   "cell_type": "code",
   "execution_count": 11,
   "metadata": {},
   "outputs": [
    {
     "data": {
      "text/plain": [
       "3"
      ]
     },
     "execution_count": 11,
     "metadata": {},
     "output_type": "execute_result"
    }
   ],
   "source": [
    "8 - 5"
   ]
  },
  {
   "cell_type": "code",
   "execution_count": 12,
   "metadata": {},
   "outputs": [
    {
     "data": {
      "text/plain": [
       "9.9"
      ]
     },
     "execution_count": 12,
     "metadata": {},
     "output_type": "execute_result"
    }
   ],
   "source": [
    "10 - .1"
   ]
  },
  {
   "cell_type": "markdown",
   "metadata": {},
   "source": [
    "Setiap integer $n$ dapat dinyatakan sebagai $n=mp+q$, dimana $m$ pembagi, $p$ hasil bagi, dan $q$ sisa bagi. Dalam Python terdapat dua pembagian, yaitu **division** dan **integer division**. Division adalah pembagian biasa, tetapi integer division adalah pembagian yang selalu menghasilkan integer ($p$ seperti di atas). Integer sisa bagi $q$ dapat dihasilkan dengan modulo, yang disimbolkan `%` dalam Python."
   ]
  },
  {
   "cell_type": "code",
   "execution_count": 13,
   "metadata": {},
   "outputs": [
    {
     "data": {
      "text/plain": [
       "3.3333333333333335"
      ]
     },
     "execution_count": 13,
     "metadata": {},
     "output_type": "execute_result"
    }
   ],
   "source": [
    "10/3"
   ]
  },
  {
   "cell_type": "code",
   "execution_count": 16,
   "metadata": {},
   "outputs": [
    {
     "data": {
      "text/plain": [
       "1"
      ]
     },
     "execution_count": 16,
     "metadata": {},
     "output_type": "execute_result"
    }
   ],
   "source": [
    "10%3"
   ]
  },
  {
   "cell_type": "code",
   "execution_count": 17,
   "metadata": {},
   "outputs": [
    {
     "data": {
      "text/plain": [
       "3"
      ]
     },
     "execution_count": 17,
     "metadata": {},
     "output_type": "execute_result"
    }
   ],
   "source": [
    "10//3"
   ]
  },
  {
   "cell_type": "code",
   "execution_count": 18,
   "metadata": {},
   "outputs": [
    {
     "data": {
      "text/plain": [
       "True"
      ]
     },
     "execution_count": 18,
     "metadata": {},
     "output_type": "execute_result"
    }
   ],
   "source": [
    "# Apakah 10 = 3 x 3 + 1 ?\n",
    "10 == 3 * 3 + 1"
   ]
  },
  {
   "cell_type": "markdown",
   "metadata": {},
   "source": [
    "Operasi    |   Simbol | Sintaks\n",
    "---------- | -------- | --------\n",
    "Assignment | $\\gets$  |   `=`\n",
    "Addition   |    $+$   |   `+`\n",
    "Substract  |    $-$   |   `-`\n",
    "Multiply   |  $\\cdot$ |   `*`\n",
    "Power      |  $^$     |   `**`\n",
    "Divide     |    $/$   |   `/`\n",
    "Int. Div.  |    $/$   |   `//`\n",
    "Modulo     |  $\\bmod$  |   `%`\n",
    "Equal      |  $=$     |   `==`\n",
    "LessEq     |   $\\leq$ |   `<=`\n",
    "GreEq      |  $\\geq$  |   `>=`"
   ]
  },
  {
   "cell_type": "markdown",
   "metadata": {},
   "source": [
    "## 4. Variabel"
   ]
  },
  {
   "cell_type": "markdown",
   "metadata": {},
   "source": [
    "Penggunaan variabel biasa digunakan dalam pemrograman. Dalam Python, semua hal adalah `object`. Object disimpan dalam memory. Untuk memudahkan pemanggilan, dilakukan *assignment* kepada variabel."
   ]
  },
  {
   "cell_type": "code",
   "execution_count": 19,
   "metadata": {},
   "outputs": [
    {
     "data": {
      "text/plain": [
       "0.5"
      ]
     },
     "execution_count": 19,
     "metadata": {},
     "output_type": "execute_result"
    }
   ],
   "source": [
    "a = .5\n",
    "a"
   ]
  },
  {
   "cell_type": "markdown",
   "metadata": {},
   "source": [
    "Variabel dapat digunakan untuk semua tipe data. Bahkan terhadap variabel lain."
   ]
  },
  {
   "cell_type": "code",
   "execution_count": 27,
   "metadata": {},
   "outputs": [
    {
     "name": "stdout",
     "output_type": "stream",
     "text": [
      "teks\n",
      "Saya sedang belajar Python\n"
     ]
    }
   ],
   "source": [
    "teks = \"Saya sedang belajar Python\"\n",
    "print(\"teks\")\n",
    "print(teks)"
   ]
  },
  {
   "cell_type": "code",
   "execution_count": 21,
   "metadata": {
    "collapsed": true
   },
   "outputs": [],
   "source": [
    "x = 1"
   ]
  },
  {
   "cell_type": "code",
   "execution_count": 22,
   "metadata": {
    "collapsed": true
   },
   "outputs": [],
   "source": [
    "x = x + 2"
   ]
  },
  {
   "cell_type": "code",
   "execution_count": 23,
   "metadata": {},
   "outputs": [
    {
     "data": {
      "text/plain": [
       "3"
      ]
     },
     "execution_count": 23,
     "metadata": {},
     "output_type": "execute_result"
    }
   ],
   "source": [
    "x"
   ]
  },
  {
   "cell_type": "markdown",
   "metadata": {},
   "source": [
    "## 5. *String* dan Teks"
   ]
  },
  {
   "cell_type": "markdown",
   "metadata": {},
   "source": [
    "String adalah tipe data teks dalam Python. Biasanya dideklarasikan menggunakan petik '' atau \"\""
   ]
  },
  {
   "cell_type": "code",
   "execution_count": 28,
   "metadata": {},
   "outputs": [
    {
     "data": {
      "text/plain": [
       "str"
      ]
     },
     "execution_count": 28,
     "metadata": {},
     "output_type": "execute_result"
    }
   ],
   "source": [
    "type(teks)"
   ]
  },
  {
   "cell_type": "code",
   "execution_count": 29,
   "metadata": {},
   "outputs": [
    {
     "data": {
      "text/plain": [
       "int"
      ]
     },
     "execution_count": 29,
     "metadata": {},
     "output_type": "execute_result"
    }
   ],
   "source": [
    "b = 3\n",
    "type(b)"
   ]
  },
  {
   "cell_type": "code",
   "execution_count": 30,
   "metadata": {},
   "outputs": [
    {
     "data": {
      "text/plain": [
       "'3'"
      ]
     },
     "execution_count": 30,
     "metadata": {},
     "output_type": "execute_result"
    }
   ],
   "source": [
    "str(b)"
   ]
  },
  {
   "cell_type": "code",
   "execution_count": 31,
   "metadata": {},
   "outputs": [
    {
     "data": {
      "text/plain": [
       "3"
      ]
     },
     "execution_count": 31,
     "metadata": {},
     "output_type": "execute_result"
    }
   ],
   "source": [
    "int(str(b))"
   ]
  },
  {
   "cell_type": "markdown",
   "metadata": {},
   "source": [
    "## 6. `raw_input()`"
   ]
  },
  {
   "cell_type": "markdown",
   "metadata": {},
   "source": [
    "Seringkali kita membutuhkan input dari user."
   ]
  },
  {
   "cell_type": "code",
   "execution_count": 37,
   "metadata": {},
   "outputs": [
    {
     "name": "stdout",
     "output_type": "stream",
     "text": [
      "Masukkan nama: > Tahta\n",
      "Masukkan umur: > 24\n",
      "Masukkan hobi: > bermain musik\n",
      "Hai, nama saya Tahta, umur saya 24 tahun dan hobi saya bermain musik.\n"
     ]
    }
   ],
   "source": [
    "# Contoh sederhana penggunaan input\n",
    "nama = input(\"Masukkan nama: > \")\n",
    "umur = input(\"Masukkan umur: > \")\n",
    "hobi = input(\"Masukkan hobi: > \")\n",
    "print(\"Hai, nama saya {}, umur saya {} tahun dan hobi saya {}.\".format(nama,umur,hobi))"
   ]
  },
  {
   "cell_type": "markdown",
   "metadata": {},
   "source": [
    "## 7. Argumen `argv`"
   ]
  },
  {
   "cell_type": "markdown",
   "metadata": {},
   "source": [
    "Argumen adalah opsi yang diinputkan ke dalam program/script."
   ]
  },
  {
   "cell_type": "code",
   "execution_count": null,
   "metadata": {},
   "outputs": [],
   "source": [
    "# Contoh sederhana penggunaan input\n",
    "from sys import argv\n",
    "script, nama, umur, hobi = argv\n",
    "print(\"Hai, nama saya {}, umur saya {} tahun dan hobi saya {}.\".format(nama,umur,hobi))"
   ]
  },
  {
   "cell_type": "markdown",
   "metadata": {
    "collapsed": true
   },
   "source": [
    "## 8. Modul"
   ]
  },
  {
   "cell_type": "markdown",
   "metadata": {
    "collapsed": true
   },
   "source": [
    "Modul adalah aplikasi (objek) tambahan dalam Python yang digunakan untuk mendukung program kita. Contoh umum adalah `math` dan `numpy`."
   ]
  },
  {
   "cell_type": "code",
   "execution_count": 39,
   "metadata": {
    "collapsed": true
   },
   "outputs": [],
   "source": [
    "import math"
   ]
  },
  {
   "cell_type": "code",
   "execution_count": 40,
   "metadata": {},
   "outputs": [
    {
     "data": {
      "text/plain": [
       "3"
      ]
     },
     "execution_count": 40,
     "metadata": {},
     "output_type": "execute_result"
    }
   ],
   "source": [
    "math.ceil(2.5)"
   ]
  },
  {
   "cell_type": "code",
   "execution_count": 41,
   "metadata": {},
   "outputs": [
    {
     "data": {
      "text/plain": [
       "array([[42, 99, 33, 96,  2],\n",
       "       [63,  3, 52, 95, 99],\n",
       "       [18, 78,  8, 21, 50],\n",
       "       [41, 16, 20, 47, 34],\n",
       "       [56, 55, 22, 75,  7],\n",
       "       [92, 99, 81, 82, 61],\n",
       "       [87,  6, 74, 69, 84],\n",
       "       [79, 83, 42, 11, 48],\n",
       "       [90, 12,  6, 18, 97],\n",
       "       [20, 83,  3, 58, 60]])"
      ]
     },
     "execution_count": 41,
     "metadata": {},
     "output_type": "execute_result"
    }
   ],
   "source": [
    "import numpy as N\n",
    "N.random.randint(low=0, high=100, size=(10,5))"
   ]
  },
  {
   "cell_type": "code",
   "execution_count": 42,
   "metadata": {
    "collapsed": true
   },
   "outputs": [],
   "source": [
    "N?"
   ]
  },
  {
   "cell_type": "code",
   "execution_count": 43,
   "metadata": {
    "collapsed": true
   },
   "outputs": [],
   "source": [
    "math?"
   ]
  },
  {
   "cell_type": "code",
   "execution_count": null,
   "metadata": {
    "collapsed": true
   },
   "outputs": [],
   "source": []
  }
 ],
 "metadata": {
  "kernelspec": {
   "display_name": "Python 3",
   "language": "python",
   "name": "python3"
  },
  "language_info": {
   "codemirror_mode": {
    "name": "ipython",
    "version": 3
   },
   "file_extension": ".py",
   "mimetype": "text/x-python",
   "name": "python",
   "nbconvert_exporter": "python",
   "pygments_lexer": "ipython3",
   "version": "3.5.2"
  }
 },
 "nbformat": 4,
 "nbformat_minor": 2
}
